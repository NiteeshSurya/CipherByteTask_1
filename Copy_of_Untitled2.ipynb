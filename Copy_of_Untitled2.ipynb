{
  "nbformat": 4,
  "nbformat_minor": 0,
  "metadata": {
    "colab": {
      "provenance": [],
      "authorship_tag": "ABX9TyPqASdaJGqYo73HAm/MjevL",
      "include_colab_link": true
    },
    "kernelspec": {
      "name": "python3",
      "display_name": "Python 3"
    },
    "language_info": {
      "name": "python"
    }
  },
  "cells": [
    {
      "cell_type": "markdown",
      "metadata": {
        "id": "view-in-github",
        "colab_type": "text"
      },
      "source": [
        "<a href=\"https://colab.research.google.com/github/NiteeshSurya/CipherByteTask_1/blob/master/Copy_of_Untitled2.ipynb\" target=\"_parent\"><img src=\"https://colab.research.google.com/assets/colab-badge.svg\" alt=\"Open In Colab\"/></a>"
      ]
    },
    {
      "cell_type": "code",
      "source": [
        "pip install requests beautifulsoup4"
      ],
      "metadata": {
        "colab": {
          "base_uri": "https://localhost:8080/"
        },
        "id": "SLuBC-ahbgsT",
        "outputId": "e42cd957-4570-4508-aee7-4df283dc27ae"
      },
      "execution_count": null,
      "outputs": [
        {
          "output_type": "stream",
          "name": "stdout",
          "text": [
            "Requirement already satisfied: requests in /usr/local/lib/python3.10/dist-packages (2.32.3)\n",
            "Requirement already satisfied: beautifulsoup4 in /usr/local/lib/python3.10/dist-packages (4.12.3)\n",
            "Requirement already satisfied: charset-normalizer<4,>=2 in /usr/local/lib/python3.10/dist-packages (from requests) (3.4.0)\n",
            "Requirement already satisfied: idna<4,>=2.5 in /usr/local/lib/python3.10/dist-packages (from requests) (3.10)\n",
            "Requirement already satisfied: urllib3<3,>=1.21.1 in /usr/local/lib/python3.10/dist-packages (from requests) (2.2.3)\n",
            "Requirement already satisfied: certifi>=2017.4.17 in /usr/local/lib/python3.10/dist-packages (from requests) (2024.8.30)\n",
            "Requirement already satisfied: soupsieve>1.2 in /usr/local/lib/python3.10/dist-packages (from beautifulsoup4) (2.6)\n"
          ]
        }
      ]
    },
    {
      "cell_type": "code",
      "source": [
        "import requests\n",
        "from bs4 import BeautifulSoup\n",
        "\n",
        "def scrape_techcrunch_article(url):\n",
        "    try:\n",
        "        # Send a GET request to the URL\n",
        "        response = requests.get(url)\n",
        "        response.raise_for_status()  # Raise an error for bad responses\n",
        "\n",
        "        # Parse the HTML content\n",
        "        soup = BeautifulSoup(response.content, 'html.parser')\n",
        "\n",
        "        # Extract the title\n",
        "        title = soup.find('h1').get_text(strip=True)\n",
        "\n",
        "        # Extract the article content\n",
        "        article_content = []\n",
        "        for paragraph in soup.find_all('p'):\n",
        "            article_content.append(paragraph.get_text(strip=True))\n",
        "\n",
        "        # Print the title and content\n",
        "        print(f\"Title: {title}\\n\")\n",
        "        print(\"Content:\\n\")\n",
        "        print(\"\\n\".join(article_content))\n",
        "\n",
        "    except requests.exceptions.RequestException as e:\n",
        "        print(f\"Error fetching the article: {e}\")\n",
        "\n",
        "# URL of the article to scrape\n",
        "url = 'https://techcrunch.com/2024/04/30/sams-clubs-ai-powered-exit-tech-reaches-20-of-stores/'\n",
        "\n",
        "# Scrape the article\n",
        "scrape_techcrunch_article(url)\n"
      ],
      "metadata": {
        "id": "mEg5xRpObjsw",
        "colab": {
          "base_uri": "https://localhost:8080/"
        },
        "outputId": "0ac7f37c-ac31-40cb-bc54-aa5b5bbbcf58"
      },
      "execution_count": null,
      "outputs": [
        {
          "output_type": "stream",
          "name": "stdout",
          "text": [
            "Title: Sam’s Club’s AI-powered exit tech reaches 20% of stores\n",
            "\n",
            "Content:\n",
            "\n",
            "Latest\n",
            "AI\n",
            "Amazon\n",
            "Apps\n",
            "Biotech & Health\n",
            "Climate\n",
            "Cloud Computing\n",
            "Commerce\n",
            "Crypto\n",
            "Enterprise\n",
            "EVs\n",
            "Fintech\n",
            "Fundraising\n",
            "Gadgets\n",
            "Gaming\n",
            "Google\n",
            "Government & Policy\n",
            "Hardware\n",
            "Instagram\n",
            "Layoffs\n",
            "Media & Entertainment\n",
            "Meta\n",
            "Microsoft\n",
            "Privacy\n",
            "Robotics\n",
            "Security\n",
            "Social\n",
            "Space\n",
            "Startups\n",
            "TikTok\n",
            "Transportation\n",
            "Venture\n",
            "Events\n",
            "Startup Battlefield\n",
            "StrictlyVC\n",
            "Newsletters\n",
            "Podcasts\n",
            "Videos\n",
            "Partner Content\n",
            "TechCrunch Brand Studio\n",
            "Crunchboard\n",
            "Contact Us\n",
            "Amazon may be scaling back itsAI-powered Just Walk Out checkout-free techin its stores in favor of smart shopping carts, but Walmart-owned Sam’s Club says it’s turning to AI to speed up its own exit technology. Instead of requiring store staff to check members’ purchases against their receipts when leaving the store, Sam’s Club customers who pay either at a register or through the Scan & Go mobile app can now walk out of the store without having their purchases double-checked.\n",
            "The technology,unveiledat the Consumer Electronics Show in January, has now been deployed at over 120 clubs across the U.S., which is 20% of the total number of Sam’s Club locations. Since rolling out, the company claims that it has significantly sped up exits, as members leave the store 23% faster. The retailer plans to expand the tech to all its stores by year-end.\n",
            "The system works via a combination of computer vision and digital tech that captures images of customers’ carts and then verifies payment for the items in their basket. Sam’s Club says AI is used in the background to speed up the process. The AI also learns and improves over time as thousands of exit transactions across locations are analyzed.\n",
            "Before the technology was put into place, Sam’s Club members would have to queue up at the store’s exit to wait to have their receipts checked. The new solution keeps them moving along and frees up store staff to focus on other tasks.\n",
            "The company also took a subtle shot at rival Amazon in announcing the expansion, noting that its technology arrives as “other retailers have struggled to deploy similar technology at scale, with some abandoning efforts” — a clear reference to Amazon’s pullback on Just Walk Out. In addition,Amazon had to fend off criticismthat its AI tech had relied on 1,000 some human workers to review transactions. Amazon said machine learning had powered its technology and that contractors were only annotating the AI and shopping data to improve the system.\n",
            "By comparison, Sam’s Club says it has less than 40 employees working on deployment of exit technology, including engineering, product, UX, marketing, operations, and real estate.\n",
            "Topics\n",
            "Meta lays off employees across multiple teams\n",
            "Apple reportedly worked with a Chinese automaker to develop a battery for its now-canceled car\n",
            "Y Combinator-backed fintech CapWay has shut down\n",
            "After selling Drift, ex-HubSpot exec launches AI for customer success managers\n",
            "Mistral releases new AI models optimized for laptops and phones\n",
            "The woman who filmed Waymo’s honking robotaxis got an apology promo — then spent all day using it\n",
            "How Tesla’s plans for ‘unsupervised FSD’ and robotaxis could run into red tape\n",
            "Consumer News Editor\n",
            "Sarah has worked as a reporter for TechCrunch since August 2011. She joined the company after having previously spent over three years at ReadWriteWeb. Prior to her work as a reporter, Sarah worked in I.T. across a number of industries, including banking, retail and software.\n",
            "© 2024 Yahoo.\n"
          ]
        }
      ]
    }
  ]
}